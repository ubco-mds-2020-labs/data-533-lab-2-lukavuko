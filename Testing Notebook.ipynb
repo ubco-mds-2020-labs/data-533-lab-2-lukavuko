{
 "cells": [
  {
   "cell_type": "markdown",
   "metadata": {},
   "source": [
    "## Import Cell"
   ]
  },
  {
   "cell_type": "code",
   "execution_count": 2,
   "metadata": {},
   "outputs": [],
   "source": [
    "from Mortgage_Package.financial.creditRating import *\n",
    "from Mortgage_Package.financial.debtServiceRatio import *\n",
    "from Mortgage_Package.mortgages.mortgages import *\n",
    "from Mortgage_Package.mortgages.mortgage_estimator import *"
   ]
  },
  {
   "cell_type": "markdown",
   "metadata": {},
   "source": [
    "## Subpackage 1: Financials\n",
    "### Module 1: Credit Score"
   ]
  },
  {
   "source": [
    "__When a buyer provides his/her age, residence status, and income, this module can assign points proportionally to calculate a credit score, which would be useful knowledge to a lender__"
   ],
   "cell_type": "markdown",
   "metadata": {}
  },
  {
   "cell_type": "code",
   "execution_count": 14,
   "metadata": {},
   "outputs": [],
   "source": [
    "buyer1 = creditRating(20, \"OWN\", 60000)\n",
    "\n",
    "buyer2 = creditRating(30, \"rent\", 100000)"
   ]
  },
  {
   "source": [
    "__Returns the buyer's score based on age__"
   ],
   "cell_type": "markdown",
   "metadata": {}
  },
  {
   "cell_type": "code",
   "execution_count": 15,
   "metadata": {},
   "outputs": [
    {
     "output_type": "stream",
     "name": "stdout",
     "text": [
      "100\n200\n"
     ]
    }
   ],
   "source": [
    "print(buyer1.convert_age())\n",
    "\n",
    "print(buyer2.convert_age())"
   ]
  },
  {
   "source": [
    "__Return's the buyer's score based on residence status__"
   ],
   "cell_type": "markdown",
   "metadata": {}
  },
  {
   "cell_type": "code",
   "execution_count": 16,
   "metadata": {},
   "outputs": [
    {
     "output_type": "stream",
     "name": "stdout",
     "text": [
      "225\n100\n"
     ]
    }
   ],
   "source": [
    "print(buyer1.convert_home())\n",
    "\n",
    "print(buyer2.convert_home())"
   ]
  },
  {
   "source": [
    "__Returns the buyer's score based on based on income__"
   ],
   "cell_type": "markdown",
   "metadata": {}
  },
  {
   "cell_type": "code",
   "execution_count": 17,
   "metadata": {},
   "outputs": [
    {
     "output_type": "stream",
     "name": "stdout",
     "text": [
      "260\n260\n"
     ]
    }
   ],
   "source": [
    "print(buyer1.convert_income())\n",
    "\n",
    "print(buyer2.convert_income())"
   ]
  },
  {
   "source": [
    "__Determines if the buyer is approved for a loan. The cutoff for approval is a score of 500__"
   ],
   "cell_type": "markdown",
   "metadata": {}
  },
  {
   "cell_type": "code",
   "execution_count": 19,
   "metadata": {},
   "outputs": [
    {
     "output_type": "stream",
     "name": "stdout",
     "text": [
      "Credit Score: 585. Approved for loan.\n585\nCredit Score: 560. Approved for loan.\n560\n"
     ]
    }
   ],
   "source": [
    "print(score(buyer1))\n",
    "print(score(buyer2))"
   ]
  },
  {
   "cell_type": "markdown",
   "metadata": {},
   "source": [
    "### Module 2: Maximum Affordability Calculator"
   ]
  },
  {
   "source": [
    "__Using a buyer's income, annual property tax, annual heat cost, annual car payment, annual credit card payment, proposed downpayment, and target home price, this module can determine the maximum annual and monthly mortgage payments a buyer can make. In addition, the lender will also be able to determine what the buyer's expected mortgage offer would be.__"
   ],
   "cell_type": "markdown",
   "metadata": {}
  },
  {
   "cell_type": "code",
   "execution_count": 9,
   "metadata": {},
   "outputs": [],
   "source": [
    "buyer1_dsr = debtServiceRatio(75000, 3600, 2400, 3600, 3000, 30000, 200000)\n",
    "\n",
    "buyer2_dsr = debtServiceRatio(80000, 1500, 2000, 500, 1000, 40000, 500000)"
   ]
  },
  {
   "source": [
    "__Returns maximum mortgage lender can offer a buyer__"
   ],
   "cell_type": "markdown",
   "metadata": {}
  },
  {
   "cell_type": "code",
   "execution_count": 10,
   "metadata": {},
   "outputs": [
    {
     "output_type": "execute_result",
     "data": {
      "text/plain": [
       "600000.0"
      ]
     },
     "metadata": {},
     "execution_count": 10
    }
   ],
   "source": [
    "mortgage_max(buyer1_dsr)"
   ]
  },
  {
   "cell_type": "code",
   "execution_count": 11,
   "metadata": {},
   "outputs": [
    {
     "output_type": "execute_result",
     "data": {
      "text/plain": [
       "800000.0"
      ]
     },
     "metadata": {},
     "execution_count": 11
    }
   ],
   "source": [
    "mortgage_max(buyer2_dsr)"
   ]
  },
  {
   "source": [
    "__This shows a lender the expected mortgage payments a buyer would have to make with his current financial characteristics. This is based on the Gross Debt Service and Total Debt Service__"
   ],
   "cell_type": "markdown",
   "metadata": {}
  },
  {
   "cell_type": "code",
   "execution_count": 12,
   "metadata": {},
   "outputs": [
    {
     "output_type": "stream",
     "name": "stdout",
     "text": [
      "Max Annual Spending: $24000.0\nMax Annual Mortgage Payment: $18000.0\nMax Monthly Mortgage Payment: $1500.0\nYour downpayment: $18000.0\nMax Annual Spending: $30000.0\nMax Annual Mortgage Payment: $17400.0\nMax Monthly Mortgage Payment: $1450.0\nYour downpayment: $17400.0\n"
     ]
    },
    {
     "output_type": "execute_result",
     "data": {
      "text/plain": [
       "17400.0"
      ]
     },
     "metadata": {},
     "execution_count": 12
    }
   ],
   "source": [
    "min_dp(buyer1_dsr, pri = True)"
   ]
  },
  {
   "cell_type": "code",
   "execution_count": 13,
   "metadata": {},
   "outputs": [
    {
     "output_type": "stream",
     "name": "stdout",
     "text": [
      "Max Annual Spending: $25600.0\nMax Annual Mortgage Payment: $22100.0\nMax Monthly Mortgage Payment: $1841.6666666666667\nYour downpayment: $22100.0\nMax Annual Spending: $32000.0\nMax Annual Mortgage Payment: $27000.0\nMax Monthly Mortgage Payment: $2250.0\nYour downpayment: $27000.0\n"
     ]
    },
    {
     "output_type": "execute_result",
     "data": {
      "text/plain": [
       "22100.0"
      ]
     },
     "metadata": {},
     "execution_count": 13
    }
   ],
   "source": [
    "min_dp(buyer2_dsr, pri = True)"
   ]
  },
  {
   "cell_type": "markdown",
   "metadata": {},
   "source": [
    "## Subpackage 2: Mortgage\n",
    "### Module 1: Real Estate\n",
    "\n",
    "##### This module includes a superclass (RealEstate) for real estate objects and a child class for residential type real estates (Residential(RealEstate)). The objects can be used to store valuable property information from which dataframes can be built either within real estate companies or on users looking to store their prospective properties as objects.\n",
    "\n",
    "##### Future work might focus on creating child classes for other classes of real estate such as industrial, commercial, and land in addition to residential."
   ]
  },
  {
   "cell_type": "code",
   "execution_count": 34,
   "metadata": {},
   "outputs": [],
   "source": [
    "building1 = RealEstate(prop = 'Clearview Residential Five Story Apartment',\n",
    "                       price = 4800000,\n",
    "                       prop_owner = 'Brookfield Asset Management',\n",
    "                       prov = 'ON')\n",
    "\n",
    "building2 = RealEstate(prop = 'Surrey Community Centre',\n",
    "                       price = 1905000,\n",
    "                       prop_owner = 'City of Vancouver',\n",
    "                       prov = 'BC')\n",
    "\n",
    "home1 = Residential(prop = 'The Bronson Home',\n",
    "                       price = 680000,\n",
    "                       prop_owner = 'Brookfield Asset Management',\n",
    "                       area = 'Quinterra',\n",
    "                       city = 'Ottawa',\n",
    "                       prov = 'ON',\n",
    "                       sq_footage = 2600,\n",
    "                       year_built = 2003)\n",
    "\n",
    "home2 = Residential(prop = 'Mill Cottage',\n",
    "                       price = 1950260,\n",
    "                       prop_owner = 'Big Houses Inc.',\n",
    "                       area = 'Rockcliff',\n",
    "                       city = 'Ottawa',\n",
    "                       prov = 'ON',\n",
    "                       sq_footage = 8600,\n",
    "                       year_built = 1926)"
   ]
  },
  {
   "cell_type": "markdown",
   "metadata": {},
   "source": [
    "#### We can print or return information on the objects by calling them. Note that residential objects have more attributes than general real estate objects."
   ]
  },
  {
   "cell_type": "code",
   "execution_count": 35,
   "metadata": {},
   "outputs": [
    {
     "name": "stdout",
     "output_type": "stream",
     "text": [
      "Clearview Residential Five Story Apartment\n",
      "    Price: $4800000\n",
      "    Legal owner : Brookfield Asset Management\n",
      "    Province: ON \n",
      "\n",
      " Surrey Community Centre\n",
      "    Price: $1905000\n",
      "    Legal owner : City of Vancouver\n",
      "    Province: BC \n",
      "\n",
      " The Bronson Home\n",
      "    Price: $680000\n",
      "    Legal owner : Brookfield Asset Management\n",
      "    Area: Quinterra\n",
      "    City: Ottawa\n",
      "    Province: ON\n",
      "    Square Footage: 2600\n",
      "    Year Built: 2003 \n",
      "\n",
      " Mill Cottage\n",
      "    Price: $1950260\n",
      "    Legal owner : Big Houses Inc.\n",
      "    Area: Rockcliff\n",
      "    City: Ottawa\n",
      "    Province: ON\n",
      "    Square Footage: 8600\n",
      "    Year Built: 1926\n"
     ]
    }
   ],
   "source": [
    "print(building1,'\\n\\n',\n",
    "      building2,'\\n\\n',\n",
    "      home1,'\\n\\n',\n",
    "      home2)"
   ]
  },
  {
   "cell_type": "markdown",
   "metadata": {},
   "source": [
    "#### We can also get specific information from those objects and use them to create a [property, price] dataframe for use in another module. See the documentation for all available get methods."
   ]
  },
  {
   "cell_type": "code",
   "execution_count": 61,
   "metadata": {},
   "outputs": [
    {
     "name": "stdout",
     "output_type": "stream",
     "text": [
      "RANDOM GET STATEMENT EXAMPLES:\n",
      "\n",
      "Brookfield Asset Management\n",
      "Big Houses Inc.\n",
      "680000\n",
      "1950260\n",
      "2600\n",
      "Mill Cottage\n",
      "12\n",
      "----------END----------\n"
     ]
    },
    {
     "data": {
      "text/html": [
       "<div>\n",
       "<style scoped>\n",
       "    .dataframe tbody tr th:only-of-type {\n",
       "        vertical-align: middle;\n",
       "    }\n",
       "\n",
       "    .dataframe tbody tr th {\n",
       "        vertical-align: top;\n",
       "    }\n",
       "\n",
       "    .dataframe thead th {\n",
       "        text-align: right;\n",
       "    }\n",
       "</style>\n",
       "<table border=\"1\" class=\"dataframe\">\n",
       "  <thead>\n",
       "    <tr style=\"text-align: right;\">\n",
       "      <th></th>\n",
       "      <th>Properties</th>\n",
       "      <th>Prices</th>\n",
       "    </tr>\n",
       "  </thead>\n",
       "  <tbody>\n",
       "    <tr>\n",
       "      <th>0</th>\n",
       "      <td>Clearview Residential Five Story Apartment</td>\n",
       "      <td>4800000</td>\n",
       "    </tr>\n",
       "    <tr>\n",
       "      <th>1</th>\n",
       "      <td>Surrey Community Centre</td>\n",
       "      <td>1905000</td>\n",
       "    </tr>\n",
       "    <tr>\n",
       "      <th>2</th>\n",
       "      <td>The Bronson Home</td>\n",
       "      <td>680000</td>\n",
       "    </tr>\n",
       "    <tr>\n",
       "      <th>3</th>\n",
       "      <td>Mill Cottage</td>\n",
       "      <td>1950260</td>\n",
       "    </tr>\n",
       "  </tbody>\n",
       "</table>\n",
       "</div>"
      ],
      "text/plain": [
       "                                   Properties   Prices\n",
       "0  Clearview Residential Five Story Apartment  4800000\n",
       "1                     Surrey Community Centre  1905000\n",
       "2                            The Bronson Home   680000\n",
       "3                                Mill Cottage  1950260"
      ]
     },
     "execution_count": 61,
     "metadata": {},
     "output_type": "execute_result"
    }
   ],
   "source": [
    "print('RANDOM GET STATEMENT EXAMPLES:\\n',\n",
    "      home1.getPropOwner(),\n",
    "      home2.getPropOwner(),\n",
    "      home1.getPrice(),\n",
    "      home2.getPrice(),\n",
    "      home1.getSq_footage(),\n",
    "      home2.getProp(), \n",
    "      RealEstate.props_initialized, \n",
    "      '----------END----------', sep = '\\n')\n",
    "\n",
    "# Store objects in a list\n",
    "properties = [building1, building2, home1, home2]\n",
    "\n",
    "# Add their name and price attributes to a list\n",
    "props = []\n",
    "prices = []\n",
    "for i in properties:\n",
    "    props += [i.getProp()]\n",
    "    prices += [i.getPrice()]\n",
    "\n",
    "# Create a property dataframe\n",
    "df = pd.DataFrame({'Properties': props, 'Prices': prices}); df"
   ]
  },
  {
   "cell_type": "markdown",
   "metadata": {},
   "source": [
    "### Module 2: Mortgage Affordability Filter\n",
    "\n",
    "##### This module includes a function, ```property_filter()```, which filters data frames to yield affordable properties given a user's inputs. We first import or create a dataset of properties/areas and their prices on which to apply the function."
   ]
  },
  {
   "cell_type": "code",
   "execution_count": 2,
   "metadata": {},
   "outputs": [
    {
     "data": {
      "text/html": [
       "<div>\n",
       "<style scoped>\n",
       "    .dataframe tbody tr th:only-of-type {\n",
       "        vertical-align: middle;\n",
       "    }\n",
       "\n",
       "    .dataframe tbody tr th {\n",
       "        vertical-align: top;\n",
       "    }\n",
       "\n",
       "    .dataframe thead th {\n",
       "        text-align: right;\n",
       "    }\n",
       "</style>\n",
       "<table border=\"1\" class=\"dataframe\">\n",
       "  <thead>\n",
       "    <tr style=\"text-align: right;\">\n",
       "      <th></th>\n",
       "      <th>Area</th>\n",
       "      <th>House Price</th>\n",
       "    </tr>\n",
       "  </thead>\n",
       "  <tbody>\n",
       "    <tr>\n",
       "      <th>0</th>\n",
       "      <td>Downtown &amp; Westside</td>\n",
       "      <td>3118200</td>\n",
       "    </tr>\n",
       "    <tr>\n",
       "      <th>1</th>\n",
       "      <td>West Vancouver</td>\n",
       "      <td>2743600</td>\n",
       "    </tr>\n",
       "    <tr>\n",
       "      <th>2</th>\n",
       "      <td>North Vancouver</td>\n",
       "      <td>1665100</td>\n",
       "    </tr>\n",
       "    <tr>\n",
       "      <th>3</th>\n",
       "      <td>Richmond</td>\n",
       "      <td>1581600</td>\n",
       "    </tr>\n",
       "    <tr>\n",
       "      <th>4</th>\n",
       "      <td>South Burnaby</td>\n",
       "      <td>1564000</td>\n",
       "    </tr>\n",
       "    <tr>\n",
       "      <th>5</th>\n",
       "      <td>Port Moody</td>\n",
       "      <td>1515600</td>\n",
       "    </tr>\n",
       "    <tr>\n",
       "      <th>6</th>\n",
       "      <td>East Vancouver</td>\n",
       "      <td>1507200</td>\n",
       "    </tr>\n",
       "    <tr>\n",
       "      <th>7</th>\n",
       "      <td>North Burnaby</td>\n",
       "      <td>1502200</td>\n",
       "    </tr>\n",
       "    <tr>\n",
       "      <th>8</th>\n",
       "      <td>South Surrey &amp; White Rock</td>\n",
       "      <td>1443500</td>\n",
       "    </tr>\n",
       "    <tr>\n",
       "      <th>9</th>\n",
       "      <td>East Burnaby</td>\n",
       "      <td>1281700</td>\n",
       "    </tr>\n",
       "    <tr>\n",
       "      <th>10</th>\n",
       "      <td>Coquitlam</td>\n",
       "      <td>1262100</td>\n",
       "    </tr>\n",
       "    <tr>\n",
       "      <th>11</th>\n",
       "      <td>Tsawwassen</td>\n",
       "      <td>1153300</td>\n",
       "    </tr>\n",
       "    <tr>\n",
       "      <th>12</th>\n",
       "      <td>New Westminster</td>\n",
       "      <td>1127200</td>\n",
       "    </tr>\n",
       "    <tr>\n",
       "      <th>13</th>\n",
       "      <td>Langley</td>\n",
       "      <td>1090800</td>\n",
       "    </tr>\n",
       "    <tr>\n",
       "      <th>14</th>\n",
       "      <td>Cloverdale</td>\n",
       "      <td>1087400</td>\n",
       "    </tr>\n",
       "    <tr>\n",
       "      <th>15</th>\n",
       "      <td>Central Surrey</td>\n",
       "      <td>1086300</td>\n",
       "    </tr>\n",
       "    <tr>\n",
       "      <th>16</th>\n",
       "      <td>Ladner</td>\n",
       "      <td>1042000</td>\n",
       "    </tr>\n",
       "    <tr>\n",
       "      <th>17</th>\n",
       "      <td>Port Coquitlam</td>\n",
       "      <td>1034400</td>\n",
       "    </tr>\n",
       "    <tr>\n",
       "      <th>18</th>\n",
       "      <td>Squamish</td>\n",
       "      <td>1016600</td>\n",
       "    </tr>\n",
       "    <tr>\n",
       "      <th>19</th>\n",
       "      <td>North Surrey</td>\n",
       "      <td>1015700</td>\n",
       "    </tr>\n",
       "    <tr>\n",
       "      <th>20</th>\n",
       "      <td>Pitt Meadows</td>\n",
       "      <td>974800</td>\n",
       "    </tr>\n",
       "    <tr>\n",
       "      <th>21</th>\n",
       "      <td>North Delta</td>\n",
       "      <td>972500</td>\n",
       "    </tr>\n",
       "    <tr>\n",
       "      <th>22</th>\n",
       "      <td>Maple Ridge</td>\n",
       "      <td>884200</td>\n",
       "    </tr>\n",
       "    <tr>\n",
       "      <th>23</th>\n",
       "      <td>Abbotsford</td>\n",
       "      <td>873600</td>\n",
       "    </tr>\n",
       "    <tr>\n",
       "      <th>24</th>\n",
       "      <td>Mission</td>\n",
       "      <td>726000</td>\n",
       "    </tr>\n",
       "  </tbody>\n",
       "</table>\n",
       "</div>"
      ],
      "text/plain": [
       "                         Area  House Price\n",
       "0         Downtown & Westside      3118200\n",
       "1              West Vancouver      2743600\n",
       "2             North Vancouver      1665100\n",
       "3                    Richmond      1581600\n",
       "4               South Burnaby      1564000\n",
       "5                  Port Moody      1515600\n",
       "6              East Vancouver      1507200\n",
       "7               North Burnaby      1502200\n",
       "8   South Surrey & White Rock      1443500\n",
       "9                East Burnaby      1281700\n",
       "10                  Coquitlam      1262100\n",
       "11                 Tsawwassen      1153300\n",
       "12            New Westminster      1127200\n",
       "13                    Langley      1090800\n",
       "14                 Cloverdale      1087400\n",
       "15             Central Surrey      1086300\n",
       "16                     Ladner      1042000\n",
       "17             Port Coquitlam      1034400\n",
       "18                   Squamish      1016600\n",
       "19               North Surrey      1015700\n",
       "20               Pitt Meadows       974800\n",
       "21                North Delta       972500\n",
       "22                Maple Ridge       884200\n",
       "23                 Abbotsford       873600\n",
       "24                    Mission       726000"
      ]
     },
     "execution_count": 2,
     "metadata": {},
     "output_type": "execute_result"
    }
   ],
   "source": [
    "## Import property dataset\n",
    "df = pd.read_csv('vancouver_area_testing_set.csv', header = 0)\n",
    "\n",
    "## Minor dataframe adjustment\n",
    "van_area = df.loc[:,['Area', 'House Price']]; van_area"
   ]
  },
  {
   "cell_type": "markdown",
   "metadata": {},
   "source": [
    "#### Applying the property filter with ***a known*** mortgage rate\n",
    "\n",
    "- Selected dataset: \n",
    "    - vancouver neighbourhood dataset\n",
    "\n",
    "\n",
    "- Client or self information about:\n",
    "    - your maximum possible downpayment (what have you saved for your home?)\n",
    "    - your mortgage rate (determined based on the term length and bank you chose)\n",
    "    - your max monthly payment (determined by your income and other expense variables\n",
    "    - and your max eligible loan (determined by your downpayment and other variables)\n",
    "\n",
    "Since we know the mortgage rate we simply use and enter that information as is.\n",
    "\n",
    "- Parameters:\n",
    "    - property_data       = van_area\n",
    "    - downpayment         = 300'000\n",
    "    - **mortgage_rate       = 2.34%**\n",
    "    - mortgage_term       =\n",
    "    - max_monthly_payment = 2950\n",
    "    - max_loan            = 5'000'000"
   ]
  },
  {
   "cell_type": "code",
   "execution_count": 9,
   "metadata": {},
   "outputs": [
    {
     "name": "stdout",
     "output_type": "stream",
     "text": [
      "You can afford 13 properties from the 25 you've provided.\n"
     ]
    },
    {
     "data": {
      "text/html": [
       "<div>\n",
       "<style scoped>\n",
       "    .dataframe tbody tr th:only-of-type {\n",
       "        vertical-align: middle;\n",
       "    }\n",
       "\n",
       "    .dataframe tbody tr th {\n",
       "        vertical-align: top;\n",
       "    }\n",
       "\n",
       "    .dataframe thead th {\n",
       "        text-align: right;\n",
       "    }\n",
       "</style>\n",
       "<table border=\"1\" class=\"dataframe\">\n",
       "  <thead>\n",
       "    <tr style=\"text-align: right;\">\n",
       "      <th></th>\n",
       "      <th>Property/Area</th>\n",
       "      <th>Price</th>\n",
       "      <th>Minimum_Downpayment</th>\n",
       "      <th>Mortgage_Insurance</th>\n",
       "      <th>Principal</th>\n",
       "      <th>Monthly_Payment</th>\n",
       "      <th>Shortest_Amortization</th>\n",
       "      <th>Total_Interest</th>\n",
       "      <th>Net_Cost</th>\n",
       "    </tr>\n",
       "  </thead>\n",
       "  <tbody>\n",
       "    <tr>\n",
       "      <th>12</th>\n",
       "      <td>New Westminster</td>\n",
       "      <td>1127200</td>\n",
       "      <td>225440.0</td>\n",
       "      <td>0</td>\n",
       "      <td>837200</td>\n",
       "      <td>3688.72</td>\n",
       "      <td>25.0</td>\n",
       "      <td>269407.42</td>\n",
       "      <td>1396607.42</td>\n",
       "    </tr>\n",
       "    <tr>\n",
       "      <th>13</th>\n",
       "      <td>Langley</td>\n",
       "      <td>1090800</td>\n",
       "      <td>218160.0</td>\n",
       "      <td>0</td>\n",
       "      <td>800800</td>\n",
       "      <td>3754.69</td>\n",
       "      <td>23.0</td>\n",
       "      <td>235494.52</td>\n",
       "      <td>1326294.52</td>\n",
       "    </tr>\n",
       "    <tr>\n",
       "      <th>14</th>\n",
       "      <td>Cloverdale</td>\n",
       "      <td>1087400</td>\n",
       "      <td>217480.0</td>\n",
       "      <td>0</td>\n",
       "      <td>797400</td>\n",
       "      <td>3738.75</td>\n",
       "      <td>23.0</td>\n",
       "      <td>234487.26</td>\n",
       "      <td>1321887.26</td>\n",
       "    </tr>\n",
       "    <tr>\n",
       "      <th>15</th>\n",
       "      <td>Central Surrey</td>\n",
       "      <td>1086300</td>\n",
       "      <td>217260.0</td>\n",
       "      <td>0</td>\n",
       "      <td>796300</td>\n",
       "      <td>3733.59</td>\n",
       "      <td>23.0</td>\n",
       "      <td>234171.27</td>\n",
       "      <td>1320471.27</td>\n",
       "    </tr>\n",
       "    <tr>\n",
       "      <th>16</th>\n",
       "      <td>Ladner</td>\n",
       "      <td>1042000</td>\n",
       "      <td>208400.0</td>\n",
       "      <td>0</td>\n",
       "      <td>752000</td>\n",
       "      <td>3779.99</td>\n",
       "      <td>21.0</td>\n",
       "      <td>200549.01</td>\n",
       "      <td>1242549.01</td>\n",
       "    </tr>\n",
       "    <tr>\n",
       "      <th>17</th>\n",
       "      <td>Port Coquitlam</td>\n",
       "      <td>1034400</td>\n",
       "      <td>206880.0</td>\n",
       "      <td>0</td>\n",
       "      <td>744400</td>\n",
       "      <td>3741.78</td>\n",
       "      <td>21.0</td>\n",
       "      <td>198530.05</td>\n",
       "      <td>1232930.05</td>\n",
       "    </tr>\n",
       "    <tr>\n",
       "      <th>18</th>\n",
       "      <td>Squamish</td>\n",
       "      <td>1016600</td>\n",
       "      <td>203320.0</td>\n",
       "      <td>0</td>\n",
       "      <td>726600</td>\n",
       "      <td>3793.89</td>\n",
       "      <td>20.0</td>\n",
       "      <td>183926.18</td>\n",
       "      <td>1200526.18</td>\n",
       "    </tr>\n",
       "    <tr>\n",
       "      <th>19</th>\n",
       "      <td>North Surrey</td>\n",
       "      <td>1015700</td>\n",
       "      <td>203140.0</td>\n",
       "      <td>0</td>\n",
       "      <td>725700</td>\n",
       "      <td>3789.19</td>\n",
       "      <td>20.0</td>\n",
       "      <td>183705.79</td>\n",
       "      <td>1199405.79</td>\n",
       "    </tr>\n",
       "    <tr>\n",
       "      <th>20</th>\n",
       "      <td>Pitt Meadows</td>\n",
       "      <td>974800</td>\n",
       "      <td>72480.0</td>\n",
       "      <td>0</td>\n",
       "      <td>684800</td>\n",
       "      <td>3723.38</td>\n",
       "      <td>19.0</td>\n",
       "      <td>164131.04</td>\n",
       "      <td>1138931.04</td>\n",
       "    </tr>\n",
       "    <tr>\n",
       "      <th>21</th>\n",
       "      <td>North Delta</td>\n",
       "      <td>972500</td>\n",
       "      <td>72250.0</td>\n",
       "      <td>0</td>\n",
       "      <td>682500</td>\n",
       "      <td>3710.88</td>\n",
       "      <td>19.0</td>\n",
       "      <td>163572.24</td>\n",
       "      <td>1136072.24</td>\n",
       "    </tr>\n",
       "    <tr>\n",
       "      <th>22</th>\n",
       "      <td>Maple Ridge</td>\n",
       "      <td>884200</td>\n",
       "      <td>63420.0</td>\n",
       "      <td>0</td>\n",
       "      <td>594200</td>\n",
       "      <td>3713.19</td>\n",
       "      <td>16.0</td>\n",
       "      <td>118724.12</td>\n",
       "      <td>1002924.12</td>\n",
       "    </tr>\n",
       "    <tr>\n",
       "      <th>23</th>\n",
       "      <td>Abbotsford</td>\n",
       "      <td>873600</td>\n",
       "      <td>62360.0</td>\n",
       "      <td>0</td>\n",
       "      <td>583600</td>\n",
       "      <td>3646.95</td>\n",
       "      <td>16.0</td>\n",
       "      <td>116606.18</td>\n",
       "      <td>990206.18</td>\n",
       "    </tr>\n",
       "    <tr>\n",
       "      <th>24</th>\n",
       "      <td>Mission</td>\n",
       "      <td>726000</td>\n",
       "      <td>47600.0</td>\n",
       "      <td>0</td>\n",
       "      <td>436000</td>\n",
       "      <td>3749.55</td>\n",
       "      <td>11.0</td>\n",
       "      <td>58933.11</td>\n",
       "      <td>784933.11</td>\n",
       "    </tr>\n",
       "  </tbody>\n",
       "</table>\n",
       "</div>"
      ],
      "text/plain": [
       "      Property/Area    Price  Minimum_Downpayment  Mortgage_Insurance  \\\n",
       "12  New Westminster  1127200             225440.0                   0   \n",
       "13          Langley  1090800             218160.0                   0   \n",
       "14       Cloverdale  1087400             217480.0                   0   \n",
       "15   Central Surrey  1086300             217260.0                   0   \n",
       "16           Ladner  1042000             208400.0                   0   \n",
       "17   Port Coquitlam  1034400             206880.0                   0   \n",
       "18         Squamish  1016600             203320.0                   0   \n",
       "19     North Surrey  1015700             203140.0                   0   \n",
       "20     Pitt Meadows   974800              72480.0                   0   \n",
       "21      North Delta   972500              72250.0                   0   \n",
       "22      Maple Ridge   884200              63420.0                   0   \n",
       "23       Abbotsford   873600              62360.0                   0   \n",
       "24          Mission   726000              47600.0                   0   \n",
       "\n",
       "    Principal  Monthly_Payment  Shortest_Amortization  Total_Interest  \\\n",
       "12     837200          3688.72                   25.0       269407.42   \n",
       "13     800800          3754.69                   23.0       235494.52   \n",
       "14     797400          3738.75                   23.0       234487.26   \n",
       "15     796300          3733.59                   23.0       234171.27   \n",
       "16     752000          3779.99                   21.0       200549.01   \n",
       "17     744400          3741.78                   21.0       198530.05   \n",
       "18     726600          3793.89                   20.0       183926.18   \n",
       "19     725700          3789.19                   20.0       183705.79   \n",
       "20     684800          3723.38                   19.0       164131.04   \n",
       "21     682500          3710.88                   19.0       163572.24   \n",
       "22     594200          3713.19                   16.0       118724.12   \n",
       "23     583600          3646.95                   16.0       116606.18   \n",
       "24     436000          3749.55                   11.0        58933.11   \n",
       "\n",
       "      Net_Cost  \n",
       "12  1396607.42  \n",
       "13  1326294.52  \n",
       "14  1321887.26  \n",
       "15  1320471.27  \n",
       "16  1242549.01  \n",
       "17  1232930.05  \n",
       "18  1200526.18  \n",
       "19  1199405.79  \n",
       "20  1138931.04  \n",
       "21  1136072.24  \n",
       "22  1002924.12  \n",
       "23   990206.18  \n",
       "24   784933.11  "
      ]
     },
     "execution_count": 9,
     "metadata": {},
     "output_type": "execute_result"
    }
   ],
   "source": [
    "property_filter(property_data = van_area,\n",
    "               downpayment = 290000,\n",
    "               mortgage_rate = 2.34,\n",
    "               max_monthly_payment = 3800,\n",
    "               max_loan = 5000000)"
   ]
  },
  {
   "cell_type": "markdown",
   "metadata": {},
   "source": [
    "#### Applying the property filter with **an unknown** mortgage rate\n",
    "\n",
    "- Selected dataset: \n",
    "    - vancouver neighbourhood dataset\n",
    "\n",
    "\n",
    "- Client or self information about:\n",
    "    - reapply the variables as before\n",
    "    - additionally we include a mortgage term (the duration of your interest contract). This value is used to estimate an average Canadian interest rate based on term length.\n",
    "\n",
    "\n",
    "- Parameters:\n",
    "    - property_data       = van_area\n",
    "    - downpayment         = 300'000\n",
    "    - mortgage_rate       =\n",
    "    - **mortgage_term       = 8**\n",
    "    - max_monthly_payment = 2950,\n",
    "    - max_loan            = 5'000'000"
   ]
  },
  {
   "cell_type": "code",
   "execution_count": 10,
   "metadata": {},
   "outputs": [
    {
     "name": "stdout",
     "output_type": "stream",
     "text": [
      "You can afford 13 properties from the 25 you've provided.\n"
     ]
    },
    {
     "data": {
      "text/html": [
       "<div>\n",
       "<style scoped>\n",
       "    .dataframe tbody tr th:only-of-type {\n",
       "        vertical-align: middle;\n",
       "    }\n",
       "\n",
       "    .dataframe tbody tr th {\n",
       "        vertical-align: top;\n",
       "    }\n",
       "\n",
       "    .dataframe thead th {\n",
       "        text-align: right;\n",
       "    }\n",
       "</style>\n",
       "<table border=\"1\" class=\"dataframe\">\n",
       "  <thead>\n",
       "    <tr style=\"text-align: right;\">\n",
       "      <th></th>\n",
       "      <th>Property/Area</th>\n",
       "      <th>Price</th>\n",
       "      <th>Minimum_Downpayment</th>\n",
       "      <th>Mortgage_Insurance</th>\n",
       "      <th>Principal</th>\n",
       "      <th>Monthly_Payment</th>\n",
       "      <th>Shortest_Amortization</th>\n",
       "      <th>Total_Interest</th>\n",
       "      <th>Net_Cost</th>\n",
       "    </tr>\n",
       "  </thead>\n",
       "  <tbody>\n",
       "    <tr>\n",
       "      <th>12</th>\n",
       "      <td>New Westminster</td>\n",
       "      <td>1127200</td>\n",
       "      <td>225440.0</td>\n",
       "      <td>0</td>\n",
       "      <td>837200</td>\n",
       "      <td>3749.20</td>\n",
       "      <td>25.0</td>\n",
       "      <td>287561.33</td>\n",
       "      <td>1414761.33</td>\n",
       "    </tr>\n",
       "    <tr>\n",
       "      <th>13</th>\n",
       "      <td>Langley</td>\n",
       "      <td>1090800</td>\n",
       "      <td>218160.0</td>\n",
       "      <td>0</td>\n",
       "      <td>800800</td>\n",
       "      <td>3694.17</td>\n",
       "      <td>24.0</td>\n",
       "      <td>263111.57</td>\n",
       "      <td>1353911.57</td>\n",
       "    </tr>\n",
       "    <tr>\n",
       "      <th>14</th>\n",
       "      <td>Cloverdale</td>\n",
       "      <td>1087400</td>\n",
       "      <td>217480.0</td>\n",
       "      <td>0</td>\n",
       "      <td>797400</td>\n",
       "      <td>3795.63</td>\n",
       "      <td>23.0</td>\n",
       "      <td>250185.75</td>\n",
       "      <td>1337585.75</td>\n",
       "    </tr>\n",
       "    <tr>\n",
       "      <th>15</th>\n",
       "      <td>Central Surrey</td>\n",
       "      <td>1086300</td>\n",
       "      <td>217260.0</td>\n",
       "      <td>0</td>\n",
       "      <td>796300</td>\n",
       "      <td>3790.39</td>\n",
       "      <td>23.0</td>\n",
       "      <td>249848.84</td>\n",
       "      <td>1336148.84</td>\n",
       "    </tr>\n",
       "    <tr>\n",
       "      <th>16</th>\n",
       "      <td>Ladner</td>\n",
       "      <td>1042000</td>\n",
       "      <td>208400.0</td>\n",
       "      <td>0</td>\n",
       "      <td>752000</td>\n",
       "      <td>3700.33</td>\n",
       "      <td>22.0</td>\n",
       "      <td>224887.17</td>\n",
       "      <td>1266887.17</td>\n",
       "    </tr>\n",
       "    <tr>\n",
       "      <th>17</th>\n",
       "      <td>Port Coquitlam</td>\n",
       "      <td>1034400</td>\n",
       "      <td>206880.0</td>\n",
       "      <td>0</td>\n",
       "      <td>744400</td>\n",
       "      <td>3794.20</td>\n",
       "      <td>21.0</td>\n",
       "      <td>211738.77</td>\n",
       "      <td>1246138.77</td>\n",
       "    </tr>\n",
       "    <tr>\n",
       "      <th>18</th>\n",
       "      <td>Squamish</td>\n",
       "      <td>1016600</td>\n",
       "      <td>203320.0</td>\n",
       "      <td>0</td>\n",
       "      <td>726600</td>\n",
       "      <td>3703.47</td>\n",
       "      <td>21.0</td>\n",
       "      <td>206675.98</td>\n",
       "      <td>1223275.98</td>\n",
       "    </tr>\n",
       "    <tr>\n",
       "      <th>19</th>\n",
       "      <td>North Surrey</td>\n",
       "      <td>1015700</td>\n",
       "      <td>203140.0</td>\n",
       "      <td>0</td>\n",
       "      <td>725700</td>\n",
       "      <td>3698.89</td>\n",
       "      <td>21.0</td>\n",
       "      <td>206411.77</td>\n",
       "      <td>1222111.77</td>\n",
       "    </tr>\n",
       "    <tr>\n",
       "      <th>20</th>\n",
       "      <td>Pitt Meadows</td>\n",
       "      <td>974800</td>\n",
       "      <td>72480.0</td>\n",
       "      <td>0</td>\n",
       "      <td>684800</td>\n",
       "      <td>3770.97</td>\n",
       "      <td>19.0</td>\n",
       "      <td>174981.88</td>\n",
       "      <td>1149781.88</td>\n",
       "    </tr>\n",
       "    <tr>\n",
       "      <th>21</th>\n",
       "      <td>North Delta</td>\n",
       "      <td>972500</td>\n",
       "      <td>72250.0</td>\n",
       "      <td>0</td>\n",
       "      <td>682500</td>\n",
       "      <td>3758.31</td>\n",
       "      <td>19.0</td>\n",
       "      <td>174386.08</td>\n",
       "      <td>1146886.08</td>\n",
       "    </tr>\n",
       "    <tr>\n",
       "      <th>22</th>\n",
       "      <td>Maple Ridge</td>\n",
       "      <td>884200</td>\n",
       "      <td>63420.0</td>\n",
       "      <td>0</td>\n",
       "      <td>594200</td>\n",
       "      <td>3753.66</td>\n",
       "      <td>16.0</td>\n",
       "      <td>126503.64</td>\n",
       "      <td>1010703.64</td>\n",
       "    </tr>\n",
       "    <tr>\n",
       "      <th>23</th>\n",
       "      <td>Abbotsford</td>\n",
       "      <td>873600</td>\n",
       "      <td>62360.0</td>\n",
       "      <td>0</td>\n",
       "      <td>583600</td>\n",
       "      <td>3686.70</td>\n",
       "      <td>16.0</td>\n",
       "      <td>124246.84</td>\n",
       "      <td>997846.84</td>\n",
       "    </tr>\n",
       "    <tr>\n",
       "      <th>24</th>\n",
       "      <td>Mission</td>\n",
       "      <td>726000</td>\n",
       "      <td>47600.0</td>\n",
       "      <td>0</td>\n",
       "      <td>436000</td>\n",
       "      <td>3778.27</td>\n",
       "      <td>11.0</td>\n",
       "      <td>62731.84</td>\n",
       "      <td>788731.84</td>\n",
       "    </tr>\n",
       "  </tbody>\n",
       "</table>\n",
       "</div>"
      ],
      "text/plain": [
       "      Property/Area    Price  Minimum_Downpayment  Mortgage_Insurance  \\\n",
       "12  New Westminster  1127200             225440.0                   0   \n",
       "13          Langley  1090800             218160.0                   0   \n",
       "14       Cloverdale  1087400             217480.0                   0   \n",
       "15   Central Surrey  1086300             217260.0                   0   \n",
       "16           Ladner  1042000             208400.0                   0   \n",
       "17   Port Coquitlam  1034400             206880.0                   0   \n",
       "18         Squamish  1016600             203320.0                   0   \n",
       "19     North Surrey  1015700             203140.0                   0   \n",
       "20     Pitt Meadows   974800              72480.0                   0   \n",
       "21      North Delta   972500              72250.0                   0   \n",
       "22      Maple Ridge   884200              63420.0                   0   \n",
       "23       Abbotsford   873600              62360.0                   0   \n",
       "24          Mission   726000              47600.0                   0   \n",
       "\n",
       "    Principal  Monthly_Payment  Shortest_Amortization  Total_Interest  \\\n",
       "12     837200          3749.20                   25.0       287561.33   \n",
       "13     800800          3694.17                   24.0       263111.57   \n",
       "14     797400          3795.63                   23.0       250185.75   \n",
       "15     796300          3790.39                   23.0       249848.84   \n",
       "16     752000          3700.33                   22.0       224887.17   \n",
       "17     744400          3794.20                   21.0       211738.77   \n",
       "18     726600          3703.47                   21.0       206675.98   \n",
       "19     725700          3698.89                   21.0       206411.77   \n",
       "20     684800          3770.97                   19.0       174981.88   \n",
       "21     682500          3758.31                   19.0       174386.08   \n",
       "22     594200          3753.66                   16.0       126503.64   \n",
       "23     583600          3686.70                   16.0       124246.84   \n",
       "24     436000          3778.27                   11.0        62731.84   \n",
       "\n",
       "      Net_Cost  \n",
       "12  1414761.33  \n",
       "13  1353911.57  \n",
       "14  1337585.75  \n",
       "15  1336148.84  \n",
       "16  1266887.17  \n",
       "17  1246138.77  \n",
       "18  1223275.98  \n",
       "19  1222111.77  \n",
       "20  1149781.88  \n",
       "21  1146886.08  \n",
       "22  1010703.64  \n",
       "23   997846.84  \n",
       "24   788731.84  "
      ]
     },
     "execution_count": 10,
     "metadata": {},
     "output_type": "execute_result"
    }
   ],
   "source": [
    "property_filter(property_data = van_area,\n",
    "               downpayment = 290000,\n",
    "               mortgage_term = 8,\n",
    "               max_monthly_payment = 3800,\n",
    "               max_loan = 5000000)"
   ]
  },
  {
   "cell_type": "markdown",
   "metadata": {},
   "source": [
    "##### We notice that the Total_Interest rate columns have increased values from before. \n",
    "\n",
    "##### To see what interest rate was applied we can use the ```mort_term(term)``` function. It gives us an interest rate of 2.4843% which is higher than the one we previously used at 2.34%"
   ]
  },
  {
   "cell_type": "code",
   "execution_count": 17,
   "metadata": {},
   "outputs": [
    {
     "name": "stdout",
     "output_type": "stream",
     "text": [
      "2.4843 \n",
      "\n"
     ]
    },
    {
     "data": {
      "text/plain": [
       "\u001b[1;31mSignature:\u001b[0m \u001b[0mmort_rate\u001b[0m\u001b[1;33m(\u001b[0m\u001b[0mterm\u001b[0m\u001b[1;33m)\u001b[0m\u001b[1;33m\u001b[0m\u001b[1;33m\u001b[0m\u001b[0m\n",
       "\u001b[1;31mDocstring:\u001b[0m\n",
       "If no mortgage rate is specified this function can be used to\n",
       "return an estimated mortgage rate based on a regression fit (R^2 = 0.926)\n",
       "on average Canadian mortgage rates for possible term lengths.\n",
       "(https://www.superbrokers.ca/tools/mortgage-rates-comparison/)\n",
       "    \n",
       "Arguments\n",
       "----------\n",
       "term : int\n",
       "    contract length in years (from 1 to 10 years)\n",
       "    \n",
       "Return\n",
       "------\n",
       "float\n",
       "    interest rate\n",
       "\u001b[1;31mFile:\u001b[0m      c:\\users\\luka\\desktop\\lab2_private_mortgage_package\\mortgage_package\\mortgages\\mortgage_estimator.py\n",
       "\u001b[1;31mType:\u001b[0m      function\n"
      ]
     },
     "metadata": {},
     "output_type": "display_data"
    }
   ],
   "source": [
    "print(mort_rate(8),'\\n')\n",
    "\n",
    "mort_rate?"
   ]
  },
  {
   "cell_type": "markdown",
   "metadata": {},
   "source": [
    "##### There are several other functions we can use in this module to get different pieces of information. For example:\n",
    "\n",
    "- ```min_downpayment(price) --> ``` minimum required downpayment on a home\n",
    "- ```mortgage_insurance(price, downpayment) --> ``` the cost of mortgage default insurance\n",
    "- ```optimal_monthly_payment(principal, mortgage_rate, max_monthly_payment) --> ``` the affordable monthly payment required to pay off the principal in the shortest amount of years\n",
    "- ```monthly_payment(principal, mortgage_rate, amortization) --> ``` monthly payment required for the given amortization period\n",
    "- ```total_interest(principal, mortgage_rate, monthly_payment) --> ``` cumulative interest paid on principal"
   ]
  },
  {
   "cell_type": "code",
   "execution_count": null,
   "metadata": {},
   "outputs": [],
   "source": []
  }
 ],
 "metadata": {
  "kernelspec": {
   "display_name": "Python 3",
   "language": "python",
   "name": "python3"
  },
  "language_info": {
   "codemirror_mode": {
    "name": "ipython",
    "version": 3
   },
   "file_extension": ".py",
   "mimetype": "text/x-python",
   "name": "python",
   "nbconvert_exporter": "python",
   "pygments_lexer": "ipython3",
   "version": "3.8.3-final"
  }
 },
 "nbformat": 4,
 "nbformat_minor": 4
}